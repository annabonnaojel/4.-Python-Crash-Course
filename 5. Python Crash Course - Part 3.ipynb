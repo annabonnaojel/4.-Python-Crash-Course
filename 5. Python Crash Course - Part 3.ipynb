{
 "cells": [
  {
   "cell_type": "code",
   "execution_count": 1,
   "id": "b040f904-02ed-497a-adfe-b3c3698d4d10",
   "metadata": {},
   "outputs": [],
   "source": [
    "d={'key1':'Value','key2':123}"
   ]
  },
  {
   "cell_type": "code",
   "execution_count": 2,
   "id": "5686976a-11e2-4166-b26f-366b8926a902",
   "metadata": {},
   "outputs": [
    {
     "data": {
      "text/plain": [
       "'Value'"
      ]
     },
     "execution_count": 2,
     "metadata": {},
     "output_type": "execute_result"
    }
   ],
   "source": [
    "d['key1']"
   ]
  },
  {
   "cell_type": "code",
   "execution_count": 3,
   "id": "9bddc2f6-3703-4fe5-8e9c-751d98352a94",
   "metadata": {},
   "outputs": [
    {
     "data": {
      "text/plain": [
       "123"
      ]
     },
     "execution_count": 3,
     "metadata": {},
     "output_type": "execute_result"
    }
   ],
   "source": [
    "d['key2']"
   ]
  },
  {
   "cell_type": "code",
   "execution_count": 4,
   "id": "8288b854-658a-4d45-af78-46df1d61fed0",
   "metadata": {},
   "outputs": [],
   "source": [
    "d={'k1':[1,2,3]}"
   ]
  },
  {
   "cell_type": "code",
   "execution_count": 6,
   "id": "16466b87-1942-4c66-a461-02080b3466a1",
   "metadata": {},
   "outputs": [],
   "source": [
    "my_list= d['k1']"
   ]
  },
  {
   "cell_type": "code",
   "execution_count": 7,
   "id": "f5d72a2a-3dff-43a9-9548-978733c32bfd",
   "metadata": {},
   "outputs": [
    {
     "data": {
      "text/plain": [
       "1"
      ]
     },
     "execution_count": 7,
     "metadata": {},
     "output_type": "execute_result"
    }
   ],
   "source": [
    "my_list[0]"
   ]
  },
  {
   "cell_type": "code",
   "execution_count": 8,
   "id": "79a20d57-4c9d-4176-8547-6abe671687f2",
   "metadata": {},
   "outputs": [],
   "source": [
    "d={'k1':{'innerkey':[1,2,3]}}"
   ]
  },
  {
   "cell_type": "code",
   "execution_count": 11,
   "id": "a3084194-e48a-4f04-9b58-5e0b48943882",
   "metadata": {},
   "outputs": [
    {
     "data": {
      "text/plain": [
       "2"
      ]
     },
     "execution_count": 11,
     "metadata": {},
     "output_type": "execute_result"
    }
   ],
   "source": [
    "d['k1']['innerkey'][1]"
   ]
  },
  {
   "cell_type": "code",
   "execution_count": 12,
   "id": "68ea0a7f-67f0-47fb-8686-3278759ddeb6",
   "metadata": {},
   "outputs": [
    {
     "data": {
      "text/plain": [
       "True"
      ]
     },
     "execution_count": 12,
     "metadata": {},
     "output_type": "execute_result"
    }
   ],
   "source": [
    "True"
   ]
  },
  {
   "cell_type": "code",
   "execution_count": 13,
   "id": "a7b1248c-1e2e-4bf7-9e3f-30b6d1c476a9",
   "metadata": {},
   "outputs": [
    {
     "data": {
      "text/plain": [
       "False"
      ]
     },
     "execution_count": 13,
     "metadata": {},
     "output_type": "execute_result"
    }
   ],
   "source": [
    "False"
   ]
  },
  {
   "cell_type": "code",
   "execution_count": 14,
   "id": "c9b1da25-9bb4-46e9-aa8a-f3a39d0d5492",
   "metadata": {},
   "outputs": [],
   "source": [
    "my_list=[1,2,3]"
   ]
  },
  {
   "cell_type": "code",
   "execution_count": 15,
   "id": "53b214b0-5ae3-4366-b30e-eb40c2d65019",
   "metadata": {},
   "outputs": [
    {
     "data": {
      "text/plain": [
       "1"
      ]
     },
     "execution_count": 15,
     "metadata": {},
     "output_type": "execute_result"
    }
   ],
   "source": [
    "my_list[0]"
   ]
  },
  {
   "cell_type": "code",
   "execution_count": 16,
   "id": "73926da3-d0cb-42f5-a9b1-8e8047a330f8",
   "metadata": {},
   "outputs": [],
   "source": [
    "t=(1,2,3)"
   ]
  },
  {
   "cell_type": "code",
   "execution_count": 17,
   "id": "11b74c9e-85be-4e57-9da2-0437dd0dadf9",
   "metadata": {},
   "outputs": [
    {
     "data": {
      "text/plain": [
       "1"
      ]
     },
     "execution_count": 17,
     "metadata": {},
     "output_type": "execute_result"
    }
   ],
   "source": [
    "t[0]"
   ]
  },
  {
   "cell_type": "code",
   "execution_count": 18,
   "id": "c092f4b5-88d6-4b07-a210-d90c28044ecc",
   "metadata": {},
   "outputs": [],
   "source": [
    "my_list[0]='NEW'"
   ]
  },
  {
   "cell_type": "code",
   "execution_count": 19,
   "id": "a20abeab-0f5e-49a2-b5f0-d52bdc9db527",
   "metadata": {},
   "outputs": [
    {
     "data": {
      "text/plain": [
       "['NEW', 2, 3]"
      ]
     },
     "execution_count": 19,
     "metadata": {},
     "output_type": "execute_result"
    }
   ],
   "source": [
    "my_list"
   ]
  },
  {
   "cell_type": "code",
   "execution_count": 20,
   "id": "857e87ae-47a9-404a-b20e-55ec8dae9ceb",
   "metadata": {},
   "outputs": [
    {
     "ename": "TypeError",
     "evalue": "'tuple' object does not support item assignment",
     "output_type": "error",
     "traceback": [
      "\u001b[31m---------------------------------------------------------------------------\u001b[39m",
      "\u001b[31mTypeError\u001b[39m                                 Traceback (most recent call last)",
      "\u001b[36mCell\u001b[39m\u001b[36m \u001b[39m\u001b[32mIn[20]\u001b[39m\u001b[32m, line 1\u001b[39m\n\u001b[32m----> \u001b[39m\u001b[32m1\u001b[39m \u001b[43mt\u001b[49m\u001b[43m[\u001b[49m\u001b[32;43m0\u001b[39;49m\u001b[43m]\u001b[49m=\u001b[33m'\u001b[39m\u001b[33mNEW\u001b[39m\u001b[33m'\u001b[39m\n",
      "\u001b[31mTypeError\u001b[39m: 'tuple' object does not support item assignment"
     ]
    }
   ],
   "source": [
    "t[0]='NEW'"
   ]
  },
  {
   "cell_type": "code",
   "execution_count": 21,
   "id": "b880d80f-8456-4893-8576-2184a06d80b1",
   "metadata": {},
   "outputs": [
    {
     "data": {
      "text/plain": [
       "{1, 2, 3}"
      ]
     },
     "execution_count": 21,
     "metadata": {},
     "output_type": "execute_result"
    }
   ],
   "source": [
    "{1,2,3}"
   ]
  },
  {
   "cell_type": "code",
   "execution_count": 22,
   "id": "cea0e5a8-a94d-4a0e-a24a-bd60ba1953b9",
   "metadata": {},
   "outputs": [
    {
     "data": {
      "text/plain": [
       "{1, 2, 3}"
      ]
     },
     "execution_count": 22,
     "metadata": {},
     "output_type": "execute_result"
    }
   ],
   "source": [
    "{1,1,1,2,2,2,3,3,3}"
   ]
  },
  {
   "cell_type": "code",
   "execution_count": 23,
   "id": "b91e2f95-6d8e-42ca-84b5-892231c2eed8",
   "metadata": {},
   "outputs": [
    {
     "data": {
      "text/plain": [
       "{1, 2, 5, 6}"
      ]
     },
     "execution_count": 23,
     "metadata": {},
     "output_type": "execute_result"
    }
   ],
   "source": [
    "set([1,1,1,1,2,2,2,5,5,5,6,6,6])"
   ]
  },
  {
   "cell_type": "code",
   "execution_count": 24,
   "id": "accb3de5-50e6-4439-bf7b-0ee71d4aafea",
   "metadata": {},
   "outputs": [],
   "source": [
    "s={1,2,3}"
   ]
  },
  {
   "cell_type": "code",
   "execution_count": 25,
   "id": "b956d9a8-e9b8-461a-bae5-220d04123125",
   "metadata": {},
   "outputs": [],
   "source": [
    "s.add(5)"
   ]
  },
  {
   "cell_type": "code",
   "execution_count": 26,
   "id": "6692c0c3-c25a-430f-bb83-9b883ebc944d",
   "metadata": {},
   "outputs": [
    {
     "data": {
      "text/plain": [
       "{1, 2, 3, 5}"
      ]
     },
     "execution_count": 26,
     "metadata": {},
     "output_type": "execute_result"
    }
   ],
   "source": [
    "s"
   ]
  },
  {
   "cell_type": "code",
   "execution_count": 27,
   "id": "d389ff99-ee45-4902-9729-51fed4900d09",
   "metadata": {},
   "outputs": [],
   "source": [
    "s.add(5)"
   ]
  },
  {
   "cell_type": "code",
   "execution_count": 28,
   "id": "d516eec6-86b4-4b40-9719-c2b60ffc1507",
   "metadata": {},
   "outputs": [
    {
     "data": {
      "text/plain": [
       "{1, 2, 3, 5}"
      ]
     },
     "execution_count": 28,
     "metadata": {},
     "output_type": "execute_result"
    }
   ],
   "source": [
    "s"
   ]
  },
  {
   "cell_type": "code",
   "execution_count": null,
   "id": "801acf96-968c-4a45-97e4-44b59efc7c85",
   "metadata": {},
   "outputs": [],
   "source": []
  },
  {
   "cell_type": "code",
   "execution_count": 29,
   "id": "67e2e2a8-772f-4a66-b123-3ac06b99ffa5",
   "metadata": {},
   "outputs": [
    {
     "data": {
      "text/plain": [
       "False"
      ]
     },
     "execution_count": 29,
     "metadata": {},
     "output_type": "execute_result"
    }
   ],
   "source": [
    "1>2"
   ]
  },
  {
   "cell_type": "code",
   "execution_count": 30,
   "id": "06c30eb3-4980-477e-bc09-df3e759c2129",
   "metadata": {},
   "outputs": [
    {
     "data": {
      "text/plain": [
       "True"
      ]
     },
     "execution_count": 30,
     "metadata": {},
     "output_type": "execute_result"
    }
   ],
   "source": [
    "1<2"
   ]
  },
  {
   "cell_type": "code",
   "execution_count": 31,
   "id": "813774ec-daba-4eed-bb24-5635ce30f503",
   "metadata": {},
   "outputs": [
    {
     "data": {
      "text/plain": [
       "True"
      ]
     },
     "execution_count": 31,
     "metadata": {},
     "output_type": "execute_result"
    }
   ],
   "source": [
    "1<=1"
   ]
  },
  {
   "cell_type": "code",
   "execution_count": 32,
   "id": "25a8bc68-93b4-48de-b95c-c40361228edc",
   "metadata": {},
   "outputs": [
    {
     "data": {
      "text/plain": [
       "True"
      ]
     },
     "execution_count": 32,
     "metadata": {},
     "output_type": "execute_result"
    }
   ],
   "source": [
    "1==1"
   ]
  },
  {
   "cell_type": "code",
   "execution_count": 33,
   "id": "883126cd-f756-4432-bc7c-7ccb9e381022",
   "metadata": {},
   "outputs": [
    {
     "data": {
      "text/plain": [
       "False"
      ]
     },
     "execution_count": 33,
     "metadata": {},
     "output_type": "execute_result"
    }
   ],
   "source": [
    "1==2"
   ]
  },
  {
   "cell_type": "code",
   "execution_count": 35,
   "id": "4a1cc9d9-0e84-408a-988b-7c07f135a806",
   "metadata": {},
   "outputs": [
    {
     "data": {
      "text/plain": [
       "True"
      ]
     },
     "execution_count": 35,
     "metadata": {},
     "output_type": "execute_result"
    }
   ],
   "source": [
    "1!=3"
   ]
  },
  {
   "cell_type": "code",
   "execution_count": 37,
   "id": "d959820b-89a6-4ebf-ab5f-9bcf4cfa1ed4",
   "metadata": {},
   "outputs": [
    {
     "data": {
      "text/plain": [
       "True"
      ]
     },
     "execution_count": 37,
     "metadata": {},
     "output_type": "execute_result"
    }
   ],
   "source": [
    "'hi'!='bye'"
   ]
  },
  {
   "cell_type": "code",
   "execution_count": 40,
   "id": "beebced3-d69c-4a4a-9cc0-707b1250d953",
   "metadata": {},
   "outputs": [
    {
     "data": {
      "text/plain": [
       "False"
      ]
     },
     "execution_count": 40,
     "metadata": {},
     "output_type": "execute_result"
    }
   ],
   "source": [
    "(1<2) and (2>3)"
   ]
  },
  {
   "cell_type": "code",
   "execution_count": 41,
   "id": "ff1d039f-0692-4be8-81ee-5493fd017c81",
   "metadata": {},
   "outputs": [
    {
     "data": {
      "text/plain": [
       "True"
      ]
     },
     "execution_count": 41,
     "metadata": {},
     "output_type": "execute_result"
    }
   ],
   "source": [
    "(1<2) or (2>3) or(1==1)"
   ]
  },
  {
   "cell_type": "code",
   "execution_count": null,
   "id": "7d97b778-f95f-4520-b8b7-744c2f8f02b1",
   "metadata": {},
   "outputs": [],
   "source": []
  },
  {
   "cell_type": "code",
   "execution_count": 43,
   "id": "6ecf05fc-61b0-4da5-9756-30b244a3af2f",
   "metadata": {},
   "outputs": [
    {
     "name": "stdout",
     "output_type": "stream",
     "text": [
      "yep!\n"
     ]
    }
   ],
   "source": [
    "if 1<2:\n",
    "    print('yep!')"
   ]
  },
  {
   "cell_type": "code",
   "execution_count": 47,
   "id": "a1ddff78-eee0-481c-952c-1bcb5208fe08",
   "metadata": {},
   "outputs": [
    {
     "name": "stdout",
     "output_type": "stream",
     "text": [
      "second\n"
     ]
    }
   ],
   "source": [
    "if 1==2:\n",
    "    print('First')\n",
    "elif 4==4:\n",
    "    print('second')\n",
    "elif 3==3:\n",
    "    print('Middle')\n",
    "else:\n",
    "    print('Last')"
   ]
  },
  {
   "cell_type": "code",
   "execution_count": 1,
   "id": "fb2b3584-d5c2-4285-932f-10134eec169a",
   "metadata": {},
   "outputs": [],
   "source": [
    "seq = [1,2,3,4,5]"
   ]
  },
  {
   "cell_type": "code",
   "execution_count": 2,
   "id": "d7daa87c-4c88-4096-92e4-39f93e566d97",
   "metadata": {},
   "outputs": [
    {
     "name": "stdout",
     "output_type": "stream",
     "text": [
      "1\n",
      "2\n",
      "3\n",
      "4\n",
      "5\n"
     ]
    }
   ],
   "source": [
    "for num in seq:\n",
    "    print(num)"
   ]
  },
  {
   "cell_type": "code",
   "execution_count": 3,
   "id": "f1b3d90f-dc24-40ed-8091-dc1797e81891",
   "metadata": {},
   "outputs": [
    {
     "name": "stdout",
     "output_type": "stream",
     "text": [
      "hello\n",
      "hello\n",
      "hello\n",
      "hello\n",
      "hello\n"
     ]
    }
   ],
   "source": [
    "for num in seq:\n",
    "    print('hello')"
   ]
  },
  {
   "cell_type": "code",
   "execution_count": 4,
   "id": "7c8b03e4-ef36-41c1-b004-02f9971e454c",
   "metadata": {},
   "outputs": [
    {
     "name": "stdout",
     "output_type": "stream",
     "text": [
      "i is: 1\n",
      "i is: 2\n",
      "i is: 3\n",
      "i is: 4\n"
     ]
    }
   ],
   "source": [
    "i=1\n",
    "\n",
    "while i<5:\n",
    "    print('i is: {}'.format(i))\n",
    "    i=i+1"
   ]
  },
  {
   "cell_type": "code",
   "execution_count": 7,
   "id": "2ae17f00-4d4d-403b-b84d-6da004b8f7a4",
   "metadata": {},
   "outputs": [
    {
     "name": "stdout",
     "output_type": "stream",
     "text": [
      "0\n",
      "1\n",
      "2\n",
      "3\n",
      "4\n"
     ]
    }
   ],
   "source": [
    "for x in range(0,5):\n",
    "    print(x)"
   ]
  },
  {
   "cell_type": "code",
   "execution_count": 8,
   "id": "e56721b9-c676-4da8-9a2e-f3c5fc3e7008",
   "metadata": {},
   "outputs": [
    {
     "data": {
      "text/plain": [
       "[0, 1, 2, 3, 4]"
      ]
     },
     "execution_count": 8,
     "metadata": {},
     "output_type": "execute_result"
    }
   ],
   "source": [
    "list(range(0,5))"
   ]
  },
  {
   "cell_type": "code",
   "execution_count": 9,
   "id": "d01e21c7-e213-438f-b7c9-96f7f0eff2c5",
   "metadata": {},
   "outputs": [
    {
     "data": {
      "text/plain": [
       "[0, 1, 2, 3, 4, 5, 6, 7, 8, 9]"
      ]
     },
     "execution_count": 9,
     "metadata": {},
     "output_type": "execute_result"
    }
   ],
   "source": [
    "list(range(10))"
   ]
  },
  {
   "cell_type": "code",
   "execution_count": 10,
   "id": "94fc7943-929f-4248-b45b-7a92ac6354bb",
   "metadata": {},
   "outputs": [],
   "source": [
    "x = [1,2,3,4]"
   ]
  },
  {
   "cell_type": "code",
   "execution_count": 16,
   "id": "b6e17a7e-2e2d-4391-a724-55814631b183",
   "metadata": {},
   "outputs": [],
   "source": [
    "out = []\n",
    "for num in x:\n",
    "    out.append(num**2)"
   ]
  },
  {
   "cell_type": "code",
   "execution_count": 15,
   "id": "ec3f2dd4-4860-455d-a64e-255aad016eb1",
   "metadata": {},
   "outputs": [
    {
     "name": "stdout",
     "output_type": "stream",
     "text": [
      "[1, 8, 27, 64]\n"
     ]
    }
   ],
   "source": [
    "print(out)"
   ]
  },
  {
   "cell_type": "code",
   "execution_count": 17,
   "id": "4132aa40-6616-486c-9822-93d187e7c094",
   "metadata": {},
   "outputs": [
    {
     "data": {
      "text/plain": [
       "[1, 4, 9, 16]"
      ]
     },
     "execution_count": 17,
     "metadata": {},
     "output_type": "execute_result"
    }
   ],
   "source": [
    "[num**2 for num in x]"
   ]
  },
  {
   "cell_type": "code",
   "execution_count": 18,
   "id": "7639f679-4a80-4840-b8bf-5b7715d57800",
   "metadata": {},
   "outputs": [],
   "source": [
    "out = [num**2 for num in x]"
   ]
  },
  {
   "cell_type": "code",
   "execution_count": 19,
   "id": "93cc9aee-580c-4cf8-88b0-faa8538feaa2",
   "metadata": {},
   "outputs": [
    {
     "data": {
      "text/plain": [
       "[1, 4, 9, 16]"
      ]
     },
     "execution_count": 19,
     "metadata": {},
     "output_type": "execute_result"
    }
   ],
   "source": [
    "out"
   ]
  },
  {
   "cell_type": "code",
   "execution_count": 29,
   "id": "08a7f8d3-8dc8-434b-b96e-12a2eb97c80b",
   "metadata": {},
   "outputs": [],
   "source": [
    "def my_func(name= 'Default Name'):\n",
    "    print('Hello '+name)"
   ]
  },
  {
   "cell_type": "code",
   "execution_count": 30,
   "id": "c1dcdaf8-ecf6-4908-ba08-5d5298ea5353",
   "metadata": {},
   "outputs": [
    {
     "name": "stdout",
     "output_type": "stream",
     "text": [
      "Hello Default Name\n"
     ]
    }
   ],
   "source": [
    "my_func()"
   ]
  },
  {
   "cell_type": "code",
   "execution_count": 34,
   "id": "dff5e3a8-89be-40da-ab6e-91e55c7729c3",
   "metadata": {},
   "outputs": [],
   "source": [
    "def square(num):\n",
    "    \"\"\"\n",
    "    THIS IS DOCSTRING.\n",
    "    CAN GO MULTIPLE LINES.\n",
    "    THIS FUNCTIONS SQUARE THE NUMBER.\n",
    "    \"\"\"\n",
    "    return num**2"
   ]
  },
  {
   "cell_type": "code",
   "execution_count": 32,
   "id": "3b5fadfc-6718-4d6c-943c-676beb4947d9",
   "metadata": {},
   "outputs": [],
   "source": [
    "output = square(2)"
   ]
  },
  {
   "cell_type": "code",
   "execution_count": 33,
   "id": "0b998932-f42c-437d-b06e-1f2487151d8c",
   "metadata": {},
   "outputs": [
    {
     "data": {
      "text/plain": [
       "4"
      ]
     },
     "execution_count": 33,
     "metadata": {},
     "output_type": "execute_result"
    }
   ],
   "source": [
    "output"
   ]
  },
  {
   "cell_type": "code",
   "execution_count": null,
   "id": "e020e27c-77f0-45ce-9e7b-7b3f3796184d",
   "metadata": {},
   "outputs": [],
   "source": [
    "range   "
   ]
  }
 ],
 "metadata": {
  "kernelspec": {
   "display_name": "Python 3 (ipykernel)",
   "language": "python",
   "name": "python3"
  },
  "language_info": {
   "codemirror_mode": {
    "name": "ipython",
    "version": 3
   },
   "file_extension": ".py",
   "mimetype": "text/x-python",
   "name": "python",
   "nbconvert_exporter": "python",
   "pygments_lexer": "ipython3",
   "version": "3.12.9"
  }
 },
 "nbformat": 4,
 "nbformat_minor": 5
}
