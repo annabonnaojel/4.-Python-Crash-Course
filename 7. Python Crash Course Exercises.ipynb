{
 "cells": [
  {
   "cell_type": "code",
   "execution_count": 1,
   "id": "e604ed53-0f7e-4065-953b-a455e43a39c9",
   "metadata": {},
   "outputs": [
    {
     "data": {
      "text/plain": [
       "2401"
      ]
     },
     "execution_count": 1,
     "metadata": {},
     "output_type": "execute_result"
    }
   ],
   "source": [
    "7**4"
   ]
  },
  {
   "cell_type": "code",
   "execution_count": 2,
   "id": "75f77877-52f5-4a2b-8fc5-9c781f47a02a",
   "metadata": {},
   "outputs": [],
   "source": [
    "s=\"Hi There Sam\""
   ]
  },
  {
   "cell_type": "code",
   "execution_count": 3,
   "id": "b8795bfd-743c-4214-bd41-f1ac58739471",
   "metadata": {},
   "outputs": [
    {
     "data": {
      "text/plain": [
       "['Hi', 'There', 'Sam']"
      ]
     },
     "execution_count": 3,
     "metadata": {},
     "output_type": "execute_result"
    }
   ],
   "source": [
    "s.split()"
   ]
  },
  {
   "cell_type": "code",
   "execution_count": 1,
   "id": "791e77b9-86e4-4a20-9aa1-d8669dcf1818",
   "metadata": {},
   "outputs": [],
   "source": [
    "planet= \"Earth\"\n",
    "diameter=12742"
   ]
  },
  {
   "cell_type": "code",
   "execution_count": 2,
   "id": "a35dcd22-fcf3-489d-afca-74b0d6fe5e80",
   "metadata": {},
   "outputs": [
    {
     "name": "stdout",
     "output_type": "stream",
     "text": [
      "The diameter of Earth is 12742 kilometers\n"
     ]
    }
   ],
   "source": [
    "print('The diameter of {} is {} kilometers'.format(planet,diameter))"
   ]
  },
  {
   "cell_type": "code",
   "execution_count": 11,
   "id": "d898ac29-8cec-4671-b35e-e035bbb856fb",
   "metadata": {},
   "outputs": [],
   "source": [
    "lst = [1,2,[3,4],[5,[100,200,['hello']],23,11],1,7]"
   ]
  },
  {
   "cell_type": "code",
   "execution_count": 21,
   "id": "a24729de-aee6-40cf-9fc8-85bae2cb9d74",
   "metadata": {},
   "outputs": [
    {
     "data": {
      "text/plain": [
       "'l'"
      ]
     },
     "execution_count": 21,
     "metadata": {},
     "output_type": "execute_result"
    }
   ],
   "source": [
    "lst[3][1][2][0][3]"
   ]
  },
  {
   "cell_type": "code",
   "execution_count": 17,
   "id": "53234c64-d9fc-4c4d-9c19-a1bc92d6b9fb",
   "metadata": {},
   "outputs": [],
   "source": [
    "d = {'k1':[1,2,3,{'tricky':['oh','man','inception',{'target':[1,2,3,'hello']}]}]}"
   ]
  },
  {
   "cell_type": "code",
   "execution_count": 26,
   "id": "b9a0e5f7-8b64-45f2-bb42-ea0c30ef9683",
   "metadata": {},
   "outputs": [
    {
     "data": {
      "text/plain": [
       "'hello'"
      ]
     },
     "execution_count": 26,
     "metadata": {},
     "output_type": "execute_result"
    }
   ],
   "source": [
    "d['k1'][3]['tricky'][3]['target'][3]"
   ]
  },
  {
   "cell_type": "code",
   "execution_count": 39,
   "id": "ed66f5c6-a491-436f-8d4e-35f38b217ff6",
   "metadata": {},
   "outputs": [],
   "source": [
    "def domainGet(email):\n",
    "    return email.split('@')[1]"
   ]
  },
  {
   "cell_type": "code",
   "execution_count": 40,
   "id": "bed0f1a6-e69e-418e-ac56-46528ffc9966",
   "metadata": {},
   "outputs": [
    {
     "data": {
      "text/plain": [
       "'email.com'"
      ]
     },
     "execution_count": 40,
     "metadata": {},
     "output_type": "execute_result"
    }
   ],
   "source": [
    "domainGet('user@email.com')"
   ]
  },
  {
   "cell_type": "code",
   "execution_count": 43,
   "id": "474d39cf-4200-4374-867f-6d65e3947fb2",
   "metadata": {},
   "outputs": [],
   "source": [
    "def findDog(s):\n",
    "    return 'dog' in s.lower().split()"
   ]
  },
  {
   "cell_type": "code",
   "execution_count": 44,
   "id": "22c593ae-6a5b-4f0c-b207-3449a6174f1c",
   "metadata": {},
   "outputs": [
    {
     "data": {
      "text/plain": [
       "True"
      ]
     },
     "execution_count": 44,
     "metadata": {},
     "output_type": "execute_result"
    }
   ],
   "source": [
    "findDog('Is there a dog Here?')"
   ]
  },
  {
   "cell_type": "code",
   "execution_count": 46,
   "id": "d51ea713-f461-4328-a738-b1fd6070f4c4",
   "metadata": {},
   "outputs": [],
   "source": [
    "s='Is there a Dog Here?'"
   ]
  },
  {
   "cell_type": "code",
   "execution_count": 51,
   "id": "87ea902f-55bc-4789-b1c3-7f92a7fcc3bd",
   "metadata": {},
   "outputs": [
    {
     "data": {
      "text/plain": [
       "True"
      ]
     },
     "execution_count": 51,
     "metadata": {},
     "output_type": "execute_result"
    }
   ],
   "source": [
    "'dog' in s.lower().split()"
   ]
  },
  {
   "cell_type": "code",
   "execution_count": 73,
   "id": "65a6b241-d591-47ae-a825-54f783f2dbdc",
   "metadata": {},
   "outputs": [],
   "source": [
    "def countDog(st):\n",
    "    count=0\n",
    "    for word in st.lower().split():\n",
    "        if word == 'dog':\n",
    "            count += 1\n",
    "    return count\n",
    "            "
   ]
  },
  {
   "cell_type": "code",
   "execution_count": 76,
   "id": "617b7478-f9bb-4908-b2eb-fced9ee3fb1b",
   "metadata": {},
   "outputs": [
    {
     "data": {
      "text/plain": [
       "2"
      ]
     },
     "execution_count": 76,
     "metadata": {},
     "output_type": "execute_result"
    }
   ],
   "source": [
    "countDog ('This dog runs faster than the other dog dude!')"
   ]
  },
  {
   "cell_type": "code",
   "execution_count": 77,
   "id": "dcafce08-3674-439c-ae3f-b89bd1258b70",
   "metadata": {},
   "outputs": [],
   "source": [
    "seq = ['soap','doh','salad','cat','great']"
   ]
  },
  {
   "cell_type": "code",
   "execution_count": 81,
   "id": "acf84cac-438d-4cc3-b098-8df9de2b0b9a",
   "metadata": {},
   "outputs": [
    {
     "data": {
      "text/plain": [
       "['soap', 'salad']"
      ]
     },
     "execution_count": 81,
     "metadata": {},
     "output_type": "execute_result"
    }
   ],
   "source": [
    "list(filter(lambda word: word[0]=='s',seq))"
   ]
  },
  {
   "cell_type": "code",
   "execution_count": 7,
   "id": "5170013a-8230-48a0-8d00-449cb5f0c8e1",
   "metadata": {},
   "outputs": [],
   "source": [
    "def caught_speeding(speed, is_birthday):\n",
    "\n",
    "    if is_birthday:\n",
    "        speeding = speed - 5\n",
    "    else:\n",
    "        speeding = speed\n",
    "    if speeding > 80:\n",
    "        return 'Big Ticket'\n",
    "    elif speeding > 60:\n",
    "        return 'small ticket'\n",
    "    else:\n",
    "        return 'no ticket'"
   ]
  },
  {
   "cell_type": "code",
   "execution_count": 9,
   "id": "d93e52d0-219d-462f-bdef-08e3cca836bc",
   "metadata": {},
   "outputs": [
    {
     "data": {
      "text/plain": [
       "'small ticket'"
      ]
     },
     "execution_count": 9,
     "metadata": {},
     "output_type": "execute_result"
    }
   ],
   "source": [
    "caught_speeding (81, True)"
   ]
  },
  {
   "cell_type": "code",
   "execution_count": 10,
   "id": "0596bf4a-a05b-4225-8efb-02ec4d4193d6",
   "metadata": {},
   "outputs": [
    {
     "data": {
      "text/plain": [
       "'Big Ticket'"
      ]
     },
     "execution_count": 10,
     "metadata": {},
     "output_type": "execute_result"
    }
   ],
   "source": [
    "caught_speeding (81, False)"
   ]
  },
  {
   "cell_type": "code",
   "execution_count": null,
   "id": "c5233171-7b89-4a86-81e5-3f2c38b45ffc",
   "metadata": {},
   "outputs": [],
   "source": []
  }
 ],
 "metadata": {
  "kernelspec": {
   "display_name": "Python 3 (ipykernel)",
   "language": "python",
   "name": "python3"
  },
  "language_info": {
   "codemirror_mode": {
    "name": "ipython",
    "version": 3
   },
   "file_extension": ".py",
   "mimetype": "text/x-python",
   "name": "python",
   "nbconvert_exporter": "python",
   "pygments_lexer": "ipython3",
   "version": "3.12.9"
  }
 },
 "nbformat": 4,
 "nbformat_minor": 5
}
